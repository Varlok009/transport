{
 "cells": [
  {
   "cell_type": "markdown",
   "id": "779cd22e",
   "metadata": {},
   "source": [
    "    2.3 Создадим матрицу корреспонденций районов."
   ]
  },
  {
   "cell_type": "code",
   "execution_count": 1,
   "id": "dda2da31",
   "metadata": {},
   "outputs": [],
   "source": [
    "import pandas as pd\n",
    "import seaborn as sns\n",
    "from matplotlib import pyplot as plt"
   ]
  },
  {
   "cell_type": "code",
   "execution_count": 2,
   "id": "c93e4d0b",
   "metadata": {},
   "outputs": [],
   "source": [
    "# Воспользуемся итератором для чтения csv\n",
    "iterator_matrix = pd.read_csv('matrix.csv', iterator=True, delimiter=';')"
   ]
  },
  {
   "cell_type": "code",
   "execution_count": 3,
   "id": "12033790",
   "metadata": {},
   "outputs": [
    {
     "name": "stdout",
     "output_type": "stream",
     "text": [
      "stop iteration\n"
     ]
    }
   ],
   "source": [
    "chunk_size = 15_000_000\n",
    "chunks = []\n",
    "while True:\n",
    "    try:\n",
    "        chunk = iterator_matrix.get_chunk(chunk_size)\n",
    "        chunks.append(chunk)\n",
    "    except StopIteration:\n",
    "        print('stop iteration')\n",
    "        break"
   ]
  },
  {
   "cell_type": "code",
   "execution_count": 4,
   "id": "857cb7d1",
   "metadata": {},
   "outputs": [],
   "source": [
    "# Соединим данные в один дата фрейм\n",
    "df = pd.concat(chunks)\n",
    "df.columns = ['time', 'depart', 'arrival', 'customers', 'customers_metro']\n",
    "# df['time'] = pd.to_datetime(df['time'])"
   ]
  },
  {
   "cell_type": "code",
   "execution_count": 5,
   "id": "a7394c09",
   "metadata": {},
   "outputs": [
    {
     "name": "stdout",
     "output_type": "stream",
     "text": [
      "<class 'pandas.core.frame.DataFrame'>\n",
      "RangeIndex: 191345852 entries, 0 to 191345851\n",
      "Data columns (total 5 columns):\n",
      " #   Column           Dtype \n",
      "---  ------           ----- \n",
      " 0   time             object\n",
      " 1   depart           int64 \n",
      " 2   arrival          int64 \n",
      " 3   customers        int64 \n",
      " 4   customers_metro  int64 \n",
      "dtypes: int64(4), object(1)\n",
      "memory usage: 7.1+ GB\n"
     ]
    }
   ],
   "source": [
    "df.info()"
   ]
  },
  {
   "cell_type": "markdown",
   "id": "39b2fc70",
   "metadata": {},
   "source": []
  },
  {
   "cell_type": "code",
   "execution_count": 6,
   "id": "a5378b41",
   "metadata": {},
   "outputs": [
    {
     "data": {
      "text/html": [
       "<div>\n",
       "<style scoped>\n",
       "    .dataframe tbody tr th:only-of-type {\n",
       "        vertical-align: middle;\n",
       "    }\n",
       "\n",
       "    .dataframe tbody tr th {\n",
       "        vertical-align: top;\n",
       "    }\n",
       "\n",
       "    .dataframe thead th {\n",
       "        text-align: right;\n",
       "    }\n",
       "</style>\n",
       "<table border=\"1\" class=\"dataframe\">\n",
       "  <thead>\n",
       "    <tr style=\"text-align: right;\">\n",
       "      <th></th>\n",
       "      <th>zone</th>\n",
       "      <th>district</th>\n",
       "    </tr>\n",
       "  </thead>\n",
       "  <tbody>\n",
       "    <tr>\n",
       "      <th>0</th>\n",
       "      <td>914</td>\n",
       "      <td>277</td>\n",
       "    </tr>\n",
       "    <tr>\n",
       "      <th>1</th>\n",
       "      <td>915</td>\n",
       "      <td>277</td>\n",
       "    </tr>\n",
       "    <tr>\n",
       "      <th>2</th>\n",
       "      <td>615</td>\n",
       "      <td>277</td>\n",
       "    </tr>\n",
       "    <tr>\n",
       "      <th>3</th>\n",
       "      <td>539</td>\n",
       "      <td>167</td>\n",
       "    </tr>\n",
       "    <tr>\n",
       "      <th>4</th>\n",
       "      <td>208</td>\n",
       "      <td>167</td>\n",
       "    </tr>\n",
       "  </tbody>\n",
       "</table>\n",
       "</div>"
      ],
      "text/plain": [
       "   zone  district\n",
       "0   914       277\n",
       "1   915       277\n",
       "2   615       277\n",
       "3   539       167\n",
       "4   208       167"
      ]
     },
     "execution_count": 6,
     "metadata": {},
     "output_type": "execute_result"
    }
   ],
   "source": [
    "districts = pd.read_csv('zones.csv', delimiter=';')\n",
    "districts.columns = ['zone', 'district']\n",
    "\n",
    "districts.head()"
   ]
  },
  {
   "cell_type": "code",
   "execution_count": 7,
   "id": "eb875383",
   "metadata": {},
   "outputs": [],
   "source": [
    "zone_to_dist = df.merge(districts, left_on=['depart'], right_on=['zone'], how='left')"
   ]
  },
  {
   "cell_type": "code",
   "execution_count": 8,
   "id": "222825ef",
   "metadata": {},
   "outputs": [],
   "source": [
    "zone_to_dist.drop('depart', axis=1, inplace=True)\n",
    "zone_to_dist.drop('zone', axis=1, inplace=True)\n",
    "zone_to_dist.rename(columns = {'district': 'depart'}, inplace=True)\n"
   ]
  },
  {
   "cell_type": "code",
   "execution_count": 9,
   "id": "4446fe26",
   "metadata": {},
   "outputs": [],
   "source": [
    "zone_to_dist = zone_to_dist.merge(districts,\n",
    "                                  left_on=['arrival'], right_on=['zone'], how='left')"
   ]
  },
  {
   "cell_type": "code",
   "execution_count": 10,
   "id": "9c355266",
   "metadata": {},
   "outputs": [],
   "source": [
    "zone_to_dist.drop('arrival', axis=1, inplace=True)\n",
    "zone_to_dist.drop('zone', axis=1, inplace=True)\n",
    "zone_to_dist.rename(columns = {'district': 'arrival'}, inplace=True)"
   ]
  },
  {
   "cell_type": "code",
   "execution_count": 11,
   "id": "3af6f334",
   "metadata": {},
   "outputs": [
    {
     "name": "stdout",
     "output_type": "stream",
     "text": [
      "<class 'pandas.core.frame.DataFrame'>\n",
      "RangeIndex: 60473007 entries, 0 to 60473006\n",
      "Data columns (total 5 columns):\n",
      " #   Column           Dtype \n",
      "---  ------           ----- \n",
      " 0   time             object\n",
      " 1   depart           int64 \n",
      " 2   arrival          int64 \n",
      " 3   customers        int64 \n",
      " 4   customers_metro  int64 \n",
      "dtypes: int64(4), object(1)\n",
      "memory usage: 2.3+ GB\n"
     ]
    }
   ],
   "source": [
    "zone_to_dist = zone_to_dist.groupby(\n",
    "                ['time', 'depart', 'arrival'], as_index=False).agg(\n",
    "                {'customers': 'sum', 'customers_metro': 'sum'})\n",
    "zone_to_dist.info()"
   ]
  },
  {
   "cell_type": "code",
   "execution_count": 12,
   "id": "7b1a1ca4",
   "metadata": {},
   "outputs": [
    {
     "data": {
      "text/html": [
       "<div>\n",
       "<style scoped>\n",
       "    .dataframe tbody tr th:only-of-type {\n",
       "        vertical-align: middle;\n",
       "    }\n",
       "\n",
       "    .dataframe tbody tr th {\n",
       "        vertical-align: top;\n",
       "    }\n",
       "\n",
       "    .dataframe thead th {\n",
       "        text-align: right;\n",
       "    }\n",
       "</style>\n",
       "<table border=\"1\" class=\"dataframe\">\n",
       "  <thead>\n",
       "    <tr style=\"text-align: right;\">\n",
       "      <th></th>\n",
       "      <th>time</th>\n",
       "      <th>depart</th>\n",
       "      <th>arrival</th>\n",
       "      <th>customers</th>\n",
       "      <th>customers_metro</th>\n",
       "    </tr>\n",
       "  </thead>\n",
       "  <tbody>\n",
       "    <tr>\n",
       "      <th>0</th>\n",
       "      <td>2014.08.01 00:00</td>\n",
       "      <td>1</td>\n",
       "      <td>1</td>\n",
       "      <td>269</td>\n",
       "      <td>0</td>\n",
       "    </tr>\n",
       "    <tr>\n",
       "      <th>1</th>\n",
       "      <td>2014.08.01 00:00</td>\n",
       "      <td>1</td>\n",
       "      <td>3</td>\n",
       "      <td>1</td>\n",
       "      <td>1</td>\n",
       "    </tr>\n",
       "    <tr>\n",
       "      <th>2</th>\n",
       "      <td>2014.08.01 00:00</td>\n",
       "      <td>1</td>\n",
       "      <td>44</td>\n",
       "      <td>21</td>\n",
       "      <td>0</td>\n",
       "    </tr>\n",
       "    <tr>\n",
       "      <th>3</th>\n",
       "      <td>2014.08.01 00:00</td>\n",
       "      <td>1</td>\n",
       "      <td>47</td>\n",
       "      <td>55</td>\n",
       "      <td>0</td>\n",
       "    </tr>\n",
       "    <tr>\n",
       "      <th>4</th>\n",
       "      <td>2014.08.01 00:00</td>\n",
       "      <td>1</td>\n",
       "      <td>67</td>\n",
       "      <td>1</td>\n",
       "      <td>0</td>\n",
       "    </tr>\n",
       "  </tbody>\n",
       "</table>\n",
       "</div>"
      ],
      "text/plain": [
       "               time  depart  arrival  customers  customers_metro\n",
       "0  2014.08.01 00:00       1        1        269                0\n",
       "1  2014.08.01 00:00       1        3          1                1\n",
       "2  2014.08.01 00:00       1       44         21                0\n",
       "3  2014.08.01 00:00       1       47         55                0\n",
       "4  2014.08.01 00:00       1       67          1                0"
      ]
     },
     "execution_count": 12,
     "metadata": {},
     "output_type": "execute_result"
    }
   ],
   "source": [
    "zone_to_dist.head()"
   ]
  },
  {
   "cell_type": "code",
   "execution_count": 14,
   "id": "5f4c16c4",
   "metadata": {},
   "outputs": [],
   "source": [
    "# Запишем получившуюся матрицу в csv файл\n",
    "zone_to_dist.to_csv('matrix_district.csv', encoding='utf-8', sep=';', index=False)"
   ]
  }
 ],
 "metadata": {
  "kernelspec": {
   "display_name": "Python 3 (ipykernel)",
   "language": "python",
   "name": "python3"
  },
  "language_info": {
   "codemirror_mode": {
    "name": "ipython",
    "version": 3
   },
   "file_extension": ".py",
   "mimetype": "text/x-python",
   "name": "python",
   "nbconvert_exporter": "python",
   "pygments_lexer": "ipython3",
   "version": "3.10.2"
  }
 },
 "nbformat": 4,
 "nbformat_minor": 5
}
